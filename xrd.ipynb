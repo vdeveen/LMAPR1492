{
 "cells": [
  {
   "cell_type": "markdown",
   "metadata": {},
   "source": [
    "# Import et Téléchargement du cif"
   ]
  },
  {
   "cell_type": "code",
   "execution_count": 18,
   "metadata": {},
   "outputs": [],
   "source": [
    "from pymatgen import Structure\n",
    "from matplotlib import pyplot as plt\n",
    "from pymatgen import symmetry\n",
    "from pymatgen.ext.matproj import MPRester\n",
    "from pymatgen.io.cif import CifWriter\n",
    "from pymatgen.core.operations import SymmOp\n",
    "from pymatgen.analysis.diffraction import xrd\n",
    "import numpy as np\n",
    "with MPRester(\"izD7mJmnjhUOKyWGtZ\") as m:\n",
    "    structure = m.get_structure_by_material_id(\"mp-30847\")\n",
    "    w = CifWriter(structure)\n",
    "    w.write_file('mp-30847cif')\n",
    " "
   ]
  },
  {
   "cell_type": "markdown",
   "metadata": {},
   "source": [
    "# Calcul du graphe de diffractogramme\n",
    "Ce notebook étudie le rayonnement X incident Cu Kα de longueur d’onde λ=1.54060 Å envoyé sur le cristal TiSnPt . <br /> \n",
    "Une figure de diffraction se crée contenant des interférences constructives ainsi que des interférences destructives. Les pics du diffractrogramme ci-dessous, correspondent ainsi à des interférences constructives dont les intensités sont mises à l'échelle telle que l'intensité maximale soit 100.<br /> La position de ces pics , suivant la loi de Bragg, est donnée par la relation suivante : $n \\lambda = 2d_{hkl} \\sin \\theta$ où $\\theta $ correspond à l'ange de diffraction.\n",
    "\n",
    "Nous étudierons les 3 premiers pics significatifs du diffractogramme. "
   ]
  },
  {
   "cell_type": "code",
   "execution_count": 21,
   "metadata": {
    "scrolled": true
   },
   "outputs": [
    {
     "name": "stdout",
     "output_type": "stream",
     "text": [
      "Graphe correspondant du pattern:\n",
      "Les 3 premiers pics sont à theta=\n",
      "[40.96193672 24.74503223 48.44606929]\n",
      "\n",
      "leurs indices hkl associés:\n",
      "[{'hkl': (1, 0, -1), 'multiplicity': 6}\n",
      " {'hkl': (1, 0, 0), 'multiplicity': 6}\n",
      " {'hkl': (1, 1, -1), 'multiplicity': 6}]\n",
      "\n",
      "les 3 premiers pics par angle à apparaître:\n",
      "[24.74503223 28.6490771  40.96193672]\n",
      "\n",
      "leurs indices hkl associés:\n",
      "[list([{'hkl': (1, 0, 0), 'multiplicity': 6}, {'hkl': (1, 1, 1), 'multiplicity': 2}])\n",
      " list([{'hkl': (1, 1, 0), 'multiplicity': 6}])\n",
      " list([{'hkl': (1, 0, -1), 'multiplicity': 6}, {'hkl': (2, 1, 1), 'multiplicity': 6}])]\n",
      "leurs intensité relative:\n",
      "[ 79.96546038   0.44609434 100.        ]\n",
      "leurs distance interplanaire:\n",
      "[3.59794411 3.115911   2.2032818 ]\n"
     ]
    },
    {
     "data": {
      "image/png": "[encoded data removed]",
      "text/plain": [
       "<Figure size 432x288 with 1 Axes>"
      ]
     },
     "metadata": {
      "needs_background": "light"
     },
     "output_type": "display_data"
    }
   ],
   "source": [
    "        cal =xrd.XRDCalculator()\n",
    "        patter =cal.get_pattern(structure,two_theta_range=(0, 90))\n",
    "    \n",
    "        print(\"Graphe correspondant du pattern:\")\n",
    "        plt.xlabel(r\"2$\\theta$ (°)\")\n",
    "        plt.ylabel(r\"Intensité (scaled)\")\n",
    "        plt.title(r\"Diffractogramme pour un rayonnement incident de CuK$\\alpha$ sur TiSnPt\")\n",
    "        plt.stem(patter.x,patter.y,use_line_collection=True)\n",
    "        sorty =np.sort(patter.y)\n",
    "\n",
    "        n =np.size(patter.x)\n",
    "        sorteur =np.zeros(n)\n",
    "        hkls =patter.hkls.copy()\n",
    "\n",
    "        for i in range(0,n):\n",
    "            index =np.where(patter.y == sorty[i])\n",
    "            sorteur[i] =patter.x[index]\n",
    "            hkls[i] =patter.hkls[index[0][0]][0]\n",
    "\n",
    "        print(\"Les 3 premiers pics sont à theta=\")\n",
    "        pics =np.array([sorteur[n-1] ,sorteur[n-2] ,sorteur[n-3] ])\n",
    "        print(pics)\n",
    "        print(\"\")\n",
    "\n",
    "        print(\"leurs indices hkl associés:\")\n",
    "        picshkl =np.array([hkls[n-1] ,hkls[n-2] ,hkls[n-3] ])\n",
    "        print(picshkl)\n",
    "        print(\"\")\n",
    "\n",
    "        print(\"les 3 premiers pics par angle à apparaître:\")\n",
    "        picsangl =np.array([patter.x[0] ,patter.x[1] ,patter.x[2] ])\n",
    "        print(picsangl)\n",
    "        print(\"\")\n",
    "\n",
    "        print(\"leurs indices hkl associés:\")\n",
    "        picshkl2 =np.array([patter.hkls[0], patter.hkls[1] ,patter.hkls[2] ])\n",
    "        print(picshkl2)\n",
    "        \n",
    "        print(\"leurs intensité relative:\")\n",
    "        picsint =np.array([patter.y[0], patter.y[1] ,patter.y[2] ])\n",
    "        print(picsint)\n",
    "        \n",
    "        print(\"leurs distance interplanaire:\")\n",
    "        picsint =np.array([patter.d_hkls[0], patter.d_hkls[1] ,patter.d_hkls[2] ])\n",
    "        print(picsint)"
   ]
  },
  {
   "cell_type": "markdown",
   "metadata": {},
   "source": [
    "# Analyse des résultats\n",
    "On trouve les 3 pics :\n",
    "### Premier pic :\n",
    " Il se situe à 2$\\theta$ = 24.74503223 <br /> \n",
    " Son intensité sur le graphe est de 79.96546038 et la distance interplanaire est de 2.2032818  <br /> \n",
    " Ses indices de Miller sont 'hkl': (1, 0, 0) de multiplicité 6 et 'hkl': (1, 1, 1) de multiplicité 2\n",
    " ### Deuxième pic :\n",
    " Il se situe à 2$\\theta$ = 28.6490771 <br /> \n",
    " Son intensité sur le graphe est de 0.44609434 et la distance interplanaire est de 3.115911  <br /> \n",
    " Son indice de Miller est 'hkl': (1, 0, 0) de multiplicité 6\n",
    " ### Troisième pic:\n",
    " Il se situe à 2$\\theta$ = 40.96193672 <br /> \n",
    " Son intensité sur le graphe est de 100 et la distance interplanaire est de 2.2032818  <br /> \n",
    " Ses indices de Miller sont 'hkl': (1, 0, -1) de multiplicité 6 et 'hkl': (2, 1, 1) de multiplicité 6"
   ]
  },
  {
   "cell_type": "code",
   "execution_count": null,
   "metadata": {},
   "outputs": [],
   "source": []
  }
 ],
 "metadata": {
  "kernelspec": {
   "display_name": "Python 3",
   "language": "python",
   "name": "python3"
  },
  "language_info": {
   "codemirror_mode": {
    "name": "ipython",
    "version": 3
   },
   "file_extension": ".py",
   "mimetype": "text/x-python",
   "name": "python",
   "nbconvert_exporter": "python",
   "pygments_lexer": "ipython3",
   "version": "3.6.8"
  }
 },
 "nbformat": 4,
 "nbformat_minor": 2
}
