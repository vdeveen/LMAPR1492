{
 "cells": [
  {
   "cell_type": "code",
   "execution_count": 2,
   "metadata": {
    "scrolled": true
   },
   "outputs": [
    {
     "name": "stdout",
     "output_type": "stream",
     "text": [
      "Vecteurs de base du réseau direct:\n",
      "0.000000 3.115911 3.115911\n",
      "3.115911 0.000000 3.115911\n",
      "3.115911 3.115911 0.000000\n",
      "\n",
      "Longeur de A: 4.406564\n",
      "Longeur de B: 4.406564\n",
      "Longeur de C: 4.406564\n",
      "Angle alpha: 60.000000\n",
      "Angle beta: 60.000000\n",
      "Angle gamma: 60.000000\n",
      "Vecteurs de base du réseau réciproque:\n",
      "-1.008242 1.008242 1.008242\n",
      "1.008242 -1.008242 1.008242\n",
      "1.008242 1.008242 -1.008242\n",
      "\n",
      "Longeur du vecteur A*: 1.746327\n",
      "Longeur du vecteur B*: 1.746327\n",
      "Longeur du vecteur C*: 1.746327\n",
      "Angle alpha*: 109.471221\n",
      "Angle beta*: 109.471221\n",
      "Angle gamma*: 109.471221\n",
      "Type de maille : cubic\n",
      "\n",
      "Système cristallin : cubic\n",
      "\n",
      "Groupe ponctuel : -43m\n"
     ]
    }
   ],
   "source": [
    "from pymatgen.symmetry.analyzer import SpacegroupAnalyzer\n",
    "\n",
    "\n",
    "from pymatgen import Structure\n",
    "from pymatgen import symmetry\n",
    "from pymatgen.ext.matproj import MPRester\n",
    "from pymatgen.io.cif import CifWriter\n",
    "from pymatgen.symmetry.analyzer import SpacegroupAnalyzer\n",
    "from pymatgen.core.operations import SymmOp\n",
    "from IPython.display import Image\n",
    "with MPRester(\"izD7mJmnjhUOKyWGtZ\") as m:\n",
    "\n",
    "    # Structure for material id\n",
    "    structure = m.get_structure_by_material_id(\"mp-30847\")\n",
    "    w = CifWriter(structure)\n",
    "    w.write_file('mp-30847.cif')\n",
    "\n",
    "    struct= SpacegroupAnalyzer(structure)\n",
    "    new_s=SpacegroupAnalyzer(structure).get_primitive_standard_structure() #Trouve\n",
    "\n",
    "    #ReseauDirect\n",
    "    ResD= new_s.lattice\n",
    "\n",
    "    a= ResD.a\n",
    "    b= ResD.b\n",
    "    c= ResD.c\n",
    "    alpha= ResD.alpha\n",
    "    beta= ResD.beta\n",
    "    gamma= ResD.gamma\n",
    "\n",
    "    #ReseauReciproque\n",
    "    rec= ResD.reciprocal_lattice\n",
    "    arec= rec.a\n",
    "    brec= rec.b\n",
    "    crec= rec.c\n",
    "    alpharec= rec.alpha\n",
    "    betarec= rec.beta\n",
    "    gammarec= rec.gamma\n",
    "\n",
    "    #Type de maille, cristal, group\n",
    "    maille= struct.get_lattice_type()\n",
    "    cristal= struct.get_crystal_system()\n",
    "    GrouP= struct.get_point_group_symbol()\n",
    "\n",
    "    print(\"Vecteurs de base du réseau direct:\")\n",
    "    print(ResD)\n",
    "    print(\"\")\n",
    "    print(\"Longeur de A: %f\" %(a))\n",
    "    print(\"Longeur de B: %f\" %(b))\n",
    "    print(\"Longeur de C: %f\" %(c))\n",
    "\n",
    "    print(\"Angle alpha: %f\" %(alpha))\n",
    "    print(\"Angle beta: %f\" %(beta))\n",
    "    print(\"Angle gamma: %f\" %(gamma))\n",
    "    print(\"Vecteurs de base du réseau réciproque:\")\n",
    "    print(rec)\n",
    "    print(\"\")\n",
    "    print(\"Longeur du vecteur A*: %f\" %(arec))\n",
    "    print(\"Longeur du vecteur B*: %f\" %(brec))\n",
    "    print(\"Longeur du vecteur C*: %f\" %(crec))\n",
    "    print(\"Angle alpha*: %f\" %(alpharec))\n",
    "    print(\"Angle beta*: %f\" %(betarec))\n",
    "    print(\"Angle gamma*: %f\" %(gammarec))\n",
    "    print(\"Type de maille : \" + maille)\n",
    "    print(\"\")\n",
    "    print(\"Système cristallin : \" + cristal)\n",
    "    print(\"\")\n",
    "    print(\"Groupe ponctuel : \" + GrouP)\n"
   ]
  },
  {
   "cell_type": "markdown",
   "metadata": {
    "raw_mimetype": "text/latex"
   },
   "source": [
    "# Vecteurs du réseau direct\n",
    "On trouve comme vecteurs de base : <br />\n",
    "$\\overrightarrow{a}$ : (0.000000 3.115911 3.115911)  <br />\n",
    "$\\overrightarrow{b}$ : (3.115911 0.000000 3.115911) <br />\n",
    "$\\overrightarrow{c}$ : (3.115911 3.115911 0.000000)<br /> \n"
   ]
  },
  {
   "cell_type": "markdown",
   "metadata": {},
   "source": [
    "Si on pose L=3.115911 Å <br />\n",
    "On trouve alors :<br />\n",
    "$\n",
    "\\overrightarrow{a} : L(0 1 1) \\\\\n",
    "\\overrightarrow{b} : L(1 0 1) \\\\\n",
    "\\overrightarrow{c} : L(1 1 0) \\\\ $\n"
   ]
  },
  {
   "cell_type": "markdown",
   "metadata": {},
   "source": [
    "# Vecteurs du réseau réciproque\n",
    "On trouve comme vecteurs du réseau réciproque : <br />\n",
    "$\\overrightarrow{a*}$ : (-1.008242 1.008242 1.008242)  <br />\n",
    "$\\overrightarrow{b*}$ : (1.008242 -1.008242 1.008242) <br />\n",
    "$\\overrightarrow{c*}$ : (1.008242 1.008242 -1.008242)<br /> \n",
    "Si on pose L*=1.008242 Å <br />\n",
    "On trouve alors :<br />\n",
    "$\\overrightarrow{a}$ : L(-1 1 1) <br />\n",
    "$\\overrightarrow{b}$ : L(1 -1 1) <br />\n",
    "$\\overrightarrow{c}$ : L(1 1 -1) <br />\n",
    "\n"
   ]
  },
  {
   "cell_type": "markdown",
   "metadata": {},
   "source": [
    "## Type de maille : Cubique\n",
    "## Système Cristallin : Cubique\n",
    "## Groupe Ponctuel : -43m"
   ]
  },
  {
   "cell_type": "code",
   "execution_count": null,
   "metadata": {},
   "outputs": [],
   "source": []
  }
 ],
 "metadata": {
  "celltoolbar": "Format de la Cellule Texte Brut",
  "kernelspec": {
   "display_name": "Python 3",
   "language": "python",
   "name": "python3"
  },
  "language_info": {
   "codemirror_mode": {
    "name": "ipython",
    "version": 3
   },
   "file_extension": ".py",
   "mimetype": "text/x-python",
   "name": "python",
   "nbconvert_exporter": "python",
   "pygments_lexer": "ipython3",
   "version": "3.6.8"
  }
 },
 "nbformat": 4,
 "nbformat_minor": 2
}
